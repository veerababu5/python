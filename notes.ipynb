{
 "cells": [
  {
   "cell_type": "markdown",
   "id": "6e1feb51",
   "metadata": {},
   "source": [
    "# python practice"
   ]
  },
  {
   "cell_type": "markdown",
   "id": "e2752d48",
   "metadata": {},
   "source": [
    "### Go to settings, enter the search bar, font size, select the size you want, then close it."
   ]
  },
  {
   "cell_type": "markdown",
   "id": "76cfbf77",
   "metadata": {},
   "source": [
    "### Go to settings, enter the search bar, and remove the tick from \"Enable MiniMap.\" Then, close it to not show the MiniMap."
   ]
  },
  {
   "cell_type": "markdown",
   "id": "850de190",
   "metadata": {},
   "source": [
    "### intellisense"
   ]
  },
  {
   "cell_type": "markdown",
   "id": "9d529a46",
   "metadata": {},
   "source": [
    "### parameter hint"
   ]
  },
  {
   "cell_type": "code",
   "execution_count": 1,
   "id": "c58af743",
   "metadata": {},
   "outputs": [
    {
     "name": "stdout",
     "output_type": "stream",
     "text": [
      "hello veerababu\n"
     ]
    }
   ],
   "source": [
    "print('hello veerababu')"
   ]
  },
  {
   "cell_type": "code",
   "execution_count": 5,
   "id": "c73ac146",
   "metadata": {},
   "outputs": [
    {
     "name": "stdout",
     "output_type": "stream",
     "text": [
      "a is greater than 10\n"
     ]
    }
   ],
   "source": [
    "a = 50\n",
    "\n",
    "if a > 10:\n",
    "    print('a is greater than 10')\n",
    "else:\n",
    "    print('a is less than 10')"
   ]
  }
 ],
 "metadata": {
  "kernelspec": {
   "display_name": "Python 3",
   "language": "python",
   "name": "python3"
  },
  "language_info": {
   "codemirror_mode": {
    "name": "ipython",
    "version": 3
   },
   "file_extension": ".py",
   "mimetype": "text/x-python",
   "name": "python",
   "nbconvert_exporter": "python",
   "pygments_lexer": "ipython3",
   "version": "3.12.10"
  }
 },
 "nbformat": 4,
 "nbformat_minor": 5
}
