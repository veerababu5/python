{
 "cells": [
  {
   "cell_type": "markdown",
   "id": "b41dcab1",
   "metadata": {},
   "source": [
    "### 1) **bytes** type"
   ]
  },
  {
   "cell_type": "code",
   "execution_count": 1,
   "id": "2760cf6f",
   "metadata": {},
   "outputs": [
    {
     "name": "stdout",
     "output_type": "stream",
     "text": [
      "b'hello'\n",
      "<class 'bytes'>\n"
     ]
    }
   ],
   "source": [
    "a = b\"hello\"\n",
    "print(a)\n",
    "print(type(a))"
   ]
  },
  {
   "cell_type": "markdown",
   "id": "81236470",
   "metadata": {},
   "source": [
    "### 2) **bytearray** type"
   ]
  },
  {
   "cell_type": "code",
   "execution_count": 2,
   "id": "3e509e16",
   "metadata": {},
   "outputs": [
    {
     "name": "stdout",
     "output_type": "stream",
     "text": [
      "bytearray(b'hello')\n",
      "<class 'bytearray'>\n"
     ]
    }
   ],
   "source": [
    "a = bytearray(b'hello')\n",
    "print(a)\n",
    "print(type(a))"
   ]
  },
  {
   "cell_type": "markdown",
   "id": "e5611769",
   "metadata": {},
   "source": [
    "### 3) **memoryview** type"
   ]
  },
  {
   "cell_type": "code",
   "execution_count": 3,
   "id": "2df81c8c",
   "metadata": {},
   "outputs": [
    {
     "name": "stdout",
     "output_type": "stream",
     "text": [
      "<memory at 0x000002416BACF1C0>\n",
      "<class 'memoryview'>\n"
     ]
    }
   ],
   "source": [
    "a = bytearray(b'hello')\n",
    "m = memoryview(a)\n",
    "print(m)\n",
    "print(type(m))"
   ]
  },
  {
   "cell_type": "code",
   "execution_count": 5,
   "id": "143a2c58",
   "metadata": {},
   "outputs": [
    {
     "name": "stdout",
     "output_type": "stream",
     "text": [
      "bytearray(b'Aello')\n",
      "<class 'memoryview'>\n"
     ]
    }
   ],
   "source": [
    "a = bytearray(b'hello')\n",
    "m = memoryview(a)\n",
    "m[0] = 65\n",
    "print(a)\n",
    "print(type(m))"
   ]
  },
  {
   "cell_type": "markdown",
   "id": "21b068ad",
   "metadata": {},
   "source": [
    "65 = A change the **h** to **A**"
   ]
  },
  {
   "cell_type": "code",
   "execution_count": 6,
   "id": "13c59bd5",
   "metadata": {},
   "outputs": [
    {
     "name": "stdout",
     "output_type": "stream",
     "text": [
      "104\n",
      "<class 'memoryview'>\n"
     ]
    }
   ],
   "source": [
    "a = bytearray(b'hello')\n",
    "m = memoryview(a)\n",
    "print(m[0])\n",
    "print(type(m))"
   ]
  },
  {
   "cell_type": "markdown",
   "id": "d0f2d0df",
   "metadata": {},
   "source": [
    "### h value = 104"
   ]
  },
  {
   "cell_type": "code",
   "execution_count": 7,
   "id": "219949db",
   "metadata": {},
   "outputs": [
    {
     "name": "stdout",
     "output_type": "stream",
     "text": [
      "101\n",
      "<class 'memoryview'>\n"
     ]
    }
   ],
   "source": [
    "a = bytearray(b'hello')\n",
    "m = memoryview(a)\n",
    "print(m[1])\n",
    "print(type(m))"
   ]
  },
  {
   "cell_type": "code",
   "execution_count": 8,
   "id": "aee9e59b",
   "metadata": {},
   "outputs": [
    {
     "name": "stdout",
     "output_type": "stream",
     "text": [
      "108\n",
      "<class 'memoryview'>\n"
     ]
    }
   ],
   "source": [
    "a = bytearray(b'hello')\n",
    "m = memoryview(a)\n",
    "print(m[2])\n",
    "print(type(m))"
   ]
  },
  {
   "cell_type": "code",
   "execution_count": 9,
   "id": "bee495d0",
   "metadata": {},
   "outputs": [
    {
     "name": "stdout",
     "output_type": "stream",
     "text": [
      "111\n",
      "<class 'memoryview'>\n"
     ]
    }
   ],
   "source": [
    "a = bytearray(b'hello')\n",
    "m = memoryview(a)\n",
    "print(m[4])\n",
    "print(type(m))"
   ]
  },
  {
   "cell_type": "code",
   "execution_count": 10,
   "id": "7190482f",
   "metadata": {},
   "outputs": [
    {
     "ename": "IndexError",
     "evalue": "index out of bounds on dimension 1",
     "output_type": "error",
     "traceback": [
      "\u001b[31m---------------------------------------------------------------------------\u001b[39m",
      "\u001b[31mIndexError\u001b[39m                                Traceback (most recent call last)",
      "\u001b[36mCell\u001b[39m\u001b[36m \u001b[39m\u001b[32mIn[10]\u001b[39m\u001b[32m, line 3\u001b[39m\n\u001b[32m      1\u001b[39m a = \u001b[38;5;28mbytearray\u001b[39m(\u001b[33mb\u001b[39m\u001b[33m'\u001b[39m\u001b[33mhello\u001b[39m\u001b[33m'\u001b[39m)\n\u001b[32m      2\u001b[39m m = \u001b[38;5;28mmemoryview\u001b[39m(a)\n\u001b[32m----> \u001b[39m\u001b[32m3\u001b[39m \u001b[38;5;28mprint\u001b[39m(\u001b[43mm\u001b[49m\u001b[43m[\u001b[49m\u001b[32;43m5\u001b[39;49m\u001b[43m]\u001b[49m)\n\u001b[32m      4\u001b[39m \u001b[38;5;28mprint\u001b[39m(\u001b[38;5;28mtype\u001b[39m(m))\n",
      "\u001b[31mIndexError\u001b[39m: index out of bounds on dimension 1"
     ]
    }
   ],
   "source": [
    "a = bytearray(b'hello')\n",
    "m = memoryview(a)\n",
    "print(m[5])\n",
    "print(type(m))"
   ]
  }
 ],
 "metadata": {
  "kernelspec": {
   "display_name": "Python 3",
   "language": "python",
   "name": "python3"
  },
  "language_info": {
   "codemirror_mode": {
    "name": "ipython",
    "version": 3
   },
   "file_extension": ".py",
   "mimetype": "text/x-python",
   "name": "python",
   "nbconvert_exporter": "python",
   "pygments_lexer": "ipython3",
   "version": "3.12.10"
  }
 },
 "nbformat": 4,
 "nbformat_minor": 5
}
