{
 "cells": [
  {
   "cell_type": "markdown",
   "id": "07be8f9a",
   "metadata": {},
   "source": [
    "# print() function in python"
   ]
  },
  {
   "cell_type": "code",
   "execution_count": 1,
   "id": "fc901ff9",
   "metadata": {},
   "outputs": [
    {
     "name": "stdout",
     "output_type": "stream",
     "text": [
      "hello world\n"
     ]
    }
   ],
   "source": [
    "print(\"hello world\")"
   ]
  },
  {
   "cell_type": "code",
   "execution_count": 2,
   "id": "dbd93b71",
   "metadata": {},
   "outputs": [
    {
     "name": "stdout",
     "output_type": "stream",
     "text": [
      "hello world\n"
     ]
    }
   ],
   "source": [
    "print('hello world')"
   ]
  },
  {
   "cell_type": "code",
   "execution_count": 3,
   "id": "c6783f63",
   "metadata": {},
   "outputs": [
    {
     "name": "stdout",
     "output_type": "stream",
     "text": [
      "hello world veerababu\n"
     ]
    }
   ],
   "source": [
    "print('hello','world','veerababu')"
   ]
  },
  {
   "cell_type": "markdown",
   "id": "98adb723",
   "metadata": {},
   "source": [
    "### 1) *objects"
   ]
  },
  {
   "cell_type": "markdown",
   "id": "90dffe47",
   "metadata": {},
   "source": [
    "***"
   ]
  },
  {
   "cell_type": "code",
   "execution_count": 5,
   "id": "719cc984",
   "metadata": {},
   "outputs": [
    {
     "name": "stdout",
     "output_type": "stream",
     "text": [
      "hello world veerababu\n"
     ]
    }
   ],
   "source": [
    "print('hello','world','veerababu', sep=' ')"
   ]
  },
  {
   "cell_type": "code",
   "execution_count": 6,
   "id": "792f6cc4",
   "metadata": {},
   "outputs": [
    {
     "name": "stdout",
     "output_type": "stream",
     "text": [
      "hello,world,veerababu\n"
     ]
    }
   ],
   "source": [
    "print('hello','world','veerababu', sep=',')"
   ]
  },
  {
   "cell_type": "code",
   "execution_count": 7,
   "id": "eb77ed47",
   "metadata": {},
   "outputs": [
    {
     "name": "stdout",
     "output_type": "stream",
     "text": [
      "hello:world:veerababu\n"
     ]
    }
   ],
   "source": [
    "print('hello','world','veerababu', sep=':')"
   ]
  },
  {
   "cell_type": "code",
   "execution_count": 8,
   "id": "a7a0d6ee",
   "metadata": {},
   "outputs": [
    {
     "name": "stdout",
     "output_type": "stream",
     "text": [
      "hello;world;veerababu\n"
     ]
    }
   ],
   "source": [
    "print('hello','world','veerababu', sep=';')"
   ]
  },
  {
   "cell_type": "code",
   "execution_count": 9,
   "id": "a5db3efe",
   "metadata": {},
   "outputs": [
    {
     "name": "stdout",
     "output_type": "stream",
     "text": [
      "hello and world and veerababu\n"
     ]
    }
   ],
   "source": [
    "print('hello','world','veerababu', sep=' and ')"
   ]
  },
  {
   "cell_type": "markdown",
   "id": "0a38651d",
   "metadata": {},
   "source": [
    "### 2) seperate objects using **sep**"
   ]
  },
  {
   "cell_type": "markdown",
   "id": "1ae2e722",
   "metadata": {},
   "source": [
    "***"
   ]
  },
  {
   "cell_type": "code",
   "execution_count": 10,
   "id": "c02fbe93",
   "metadata": {},
   "outputs": [
    {
     "name": "stdout",
     "output_type": "stream",
     "text": [
      "hello\n",
      "world\n"
     ]
    }
   ],
   "source": [
    "print('hello')\n",
    "print('world')"
   ]
  },
  {
   "cell_type": "code",
   "execution_count": 12,
   "id": "9667cb1f",
   "metadata": {},
   "outputs": [
    {
     "name": "stdout",
     "output_type": "stream",
     "text": [
      "hel\n",
      "lo\n"
     ]
    }
   ],
   "source": [
    "print('hel\\nlo') # \\n => newline"
   ]
  },
  {
   "cell_type": "code",
   "execution_count": 13,
   "id": "c334c3ad",
   "metadata": {},
   "outputs": [
    {
     "name": "stdout",
     "output_type": "stream",
     "text": [
      "hello\n",
      "world\n"
     ]
    }
   ],
   "source": [
    "print('hello',end='\\n')\n",
    "print('world')"
   ]
  },
  {
   "cell_type": "code",
   "execution_count": 14,
   "id": "2f8e33fc",
   "metadata": {},
   "outputs": [
    {
     "name": "stdout",
     "output_type": "stream",
     "text": [
      "hello world\n"
     ]
    }
   ],
   "source": [
    "print('hello',end=' ')\n",
    "print('world')"
   ]
  },
  {
   "cell_type": "code",
   "execution_count": 15,
   "id": "201bfe6b",
   "metadata": {},
   "outputs": [
    {
     "name": "stdout",
     "output_type": "stream",
     "text": [
      "hello,world\n"
     ]
    }
   ],
   "source": [
    "print('hello',end=',')\n",
    "print('world')"
   ]
  },
  {
   "cell_type": "code",
   "execution_count": 16,
   "id": "b475b6e6",
   "metadata": {},
   "outputs": [
    {
     "name": "stdout",
     "output_type": "stream",
     "text": [
      "hello world\n",
      "veerababu\n"
     ]
    }
   ],
   "source": [
    "print('hello',end=' ')\n",
    "print('world')\n",
    "print('veerababu')"
   ]
  },
  {
   "cell_type": "code",
   "execution_count": 17,
   "id": "d9eb98af",
   "metadata": {},
   "outputs": [
    {
     "name": "stdout",
     "output_type": "stream",
     "text": [
      "hello world veerababu\n"
     ]
    }
   ],
   "source": [
    "print('hello',end=' ')\n",
    "print('world',end=' ')\n",
    "print('veerababu')"
   ]
  },
  {
   "cell_type": "markdown",
   "id": "82a855cb",
   "metadata": {},
   "source": [
    "### 3) By default each print statement end with \\n we can change it using **end**"
   ]
  },
  {
   "cell_type": "markdown",
   "id": "1fcc46dc",
   "metadata": {},
   "source": [
    "***"
   ]
  },
  {
   "cell_type": "code",
   "execution_count": 24,
   "id": "3b5dad99",
   "metadata": {},
   "outputs": [
    {
     "name": "stdout",
     "output_type": "stream",
     "text": [
      "hello\n"
     ]
    }
   ],
   "source": [
    "import sys\n",
    "print('hello',file=sys.stdout)\n",
    "# sys = system\n",
    "# std = standard\n",
    "# out = output"
   ]
  },
  {
   "cell_type": "code",
   "execution_count": 26,
   "id": "c66aefc2",
   "metadata": {},
   "outputs": [
    {
     "name": "stdout",
     "output_type": "stream",
     "text": [
      "hello \n",
      "world\n"
     ]
    }
   ],
   "source": [
    "import sys\n",
    "print('hello','\\nworld',file=sys.stdout)\n",
    "# sys = system\n",
    "# std = standard\n",
    "# out = output"
   ]
  },
  {
   "cell_type": "markdown",
   "id": "afe3812c",
   "metadata": {},
   "source": [
    "### 4) By default output is printed to output screen using **file**"
   ]
  },
  {
   "cell_type": "markdown",
   "id": "7117d0ce",
   "metadata": {},
   "source": [
    "***"
   ]
  },
  {
   "cell_type": "code",
   "execution_count": 27,
   "id": "ae0756b4",
   "metadata": {},
   "outputs": [
    {
     "name": "stdout",
     "output_type": "stream",
     "text": [
      "hello\n"
     ]
    }
   ],
   "source": [
    "print('hello',flush= False)"
   ]
  },
  {
   "cell_type": "code",
   "execution_count": 28,
   "id": "b346786f",
   "metadata": {},
   "outputs": [
    {
     "name": "stdout",
     "output_type": "stream",
     "text": [
      "hello\n"
     ]
    }
   ],
   "source": [
    "print('hello',flush= True)"
   ]
  },
  {
   "cell_type": "markdown",
   "id": "5d777eaf",
   "metadata": {},
   "source": [
    "### by default data is stored in output buffer before sending to the output screen. we can change this using **flush**"
   ]
  },
  {
   "cell_type": "code",
   "execution_count": 30,
   "id": "35bef678",
   "metadata": {},
   "outputs": [
    {
     "name": "stdout",
     "output_type": "stream",
     "text": [
      "hello,world,veerababu;"
     ]
    }
   ],
   "source": [
    "import sys\n",
    "print('hello','world','veerababu',sep=',',end=';',file=sys.stdout,flush=False)"
   ]
  },
  {
   "cell_type": "markdown",
   "id": "4d802d92",
   "metadata": {},
   "source": [
    "print(*objects, sep = ',', end = ';', file = sys.stdout, flush = False)"
   ]
  },
  {
   "cell_type": "markdown",
   "id": "1b703fdb",
   "metadata": {},
   "source": [
    "### comments in python"
   ]
  },
  {
   "cell_type": "markdown",
   "id": "c89f9372",
   "metadata": {},
   "source": [
    "***"
   ]
  },
  {
   "cell_type": "code",
   "execution_count": 31,
   "id": "c178a2c9",
   "metadata": {},
   "outputs": [
    {
     "name": "stdout",
     "output_type": "stream",
     "text": [
      "hello\n"
     ]
    }
   ],
   "source": [
    "print('hello') # this is a single line comment"
   ]
  },
  {
   "cell_type": "code",
   "execution_count": 34,
   "id": "aa45fb31",
   "metadata": {},
   "outputs": [
    {
     "name": "stdout",
     "output_type": "stream",
     "text": [
      "hello\n"
     ]
    }
   ],
   "source": [
    "print('hello') \n",
    "# this is a single line comment\n",
    "# this is a line comment\n",
    "# this is a multi line comment"
   ]
  },
  {
   "cell_type": "code",
   "execution_count": 39,
   "id": "fb38b279",
   "metadata": {},
   "outputs": [
    {
     "name": "stdout",
     "output_type": "stream",
     "text": [
      "hello\n"
     ]
    }
   ],
   "source": [
    "\"\"\"this is a single line comment\n",
    "this is a line comment\n",
    "this is a multi line comment\"\"\"\n",
    "print('hello') "
   ]
  }
 ],
 "metadata": {
  "kernelspec": {
   "display_name": "Python 3",
   "language": "python",
   "name": "python3"
  },
  "language_info": {
   "codemirror_mode": {
    "name": "ipython",
    "version": 3
   },
   "file_extension": ".py",
   "mimetype": "text/x-python",
   "name": "python",
   "nbconvert_exporter": "python",
   "pygments_lexer": "ipython3",
   "version": "3.12.10"
  }
 },
 "nbformat": 4,
 "nbformat_minor": 5
}
