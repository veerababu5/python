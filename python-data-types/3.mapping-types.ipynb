{
 "cells": [
  {
   "cell_type": "markdown",
   "id": "c0827f56",
   "metadata": {},
   "source": [
    "### 1) **dict** type"
   ]
  },
  {
   "cell_type": "code",
   "execution_count": 1,
   "id": "3fb37d3b",
   "metadata": {},
   "outputs": [
    {
     "name": "stdout",
     "output_type": "stream",
     "text": [
      "{'name': 'veerababu', 'age': '30', 'city': 'amp'}\n",
      "<class 'dict'>\n"
     ]
    }
   ],
   "source": [
    "a = {'name':'veerababu','age':'30','city':'amp'}\n",
    "print(a)\n",
    "print(type(a))"
   ]
  },
  {
   "cell_type": "code",
   "execution_count": 2,
   "id": "954275f1",
   "metadata": {},
   "outputs": [
    {
     "name": "stdout",
     "output_type": "stream",
     "text": [
      "veerababu\n",
      "<class 'dict'>\n"
     ]
    }
   ],
   "source": [
    "a = {'name':'veerababu','age':'30','city':'amp'}\n",
    "print(a['name'])\n",
    "print(type(a))"
   ]
  },
  {
   "cell_type": "code",
   "execution_count": 3,
   "id": "d44caf7e",
   "metadata": {},
   "outputs": [
    {
     "name": "stdout",
     "output_type": "stream",
     "text": [
      "30\n",
      "<class 'dict'>\n"
     ]
    }
   ],
   "source": [
    "a = {'name':'veerababu','age':'30','city':'amp'}\n",
    "print(a['age'])\n",
    "print(type(a))"
   ]
  },
  {
   "cell_type": "code",
   "execution_count": 4,
   "id": "5f9528bb",
   "metadata": {},
   "outputs": [
    {
     "name": "stdout",
     "output_type": "stream",
     "text": [
      "amp\n",
      "<class 'dict'>\n"
     ]
    }
   ],
   "source": [
    "a = {'name':'veerababu','age':'30','city':'amp'}\n",
    "print(a['city'])\n",
    "print(type(a))"
   ]
  }
 ],
 "metadata": {
  "kernelspec": {
   "display_name": "Python 3",
   "language": "python",
   "name": "python3"
  },
  "language_info": {
   "codemirror_mode": {
    "name": "ipython",
    "version": 3
   },
   "file_extension": ".py",
   "mimetype": "text/x-python",
   "name": "python",
   "nbconvert_exporter": "python",
   "pygments_lexer": "ipython3",
   "version": "3.12.10"
  }
 },
 "nbformat": 4,
 "nbformat_minor": 5
}
